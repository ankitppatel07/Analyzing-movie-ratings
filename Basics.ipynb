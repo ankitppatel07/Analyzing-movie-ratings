{
 "cells": [
  {
   "cell_type": "code",
   "execution_count": 27,
   "metadata": {
    "collapsed": true
   },
   "outputs": [],
   "source": [
    "#Project Title: Investigating the fandango movie rating data \n",
    "#In this project, I will check if any discrepancy exists\n",
    "#in the fandango movie ratings after Hickey's claim and analysis\n"
   ]
  },
  {
   "cell_type": "code",
   "execution_count": 28,
   "metadata": {
    "collapsed": false
   },
   "outputs": [],
   "source": [
    "%matplotlib inline\n",
    "import pandas as pd\n",
    "data_before_HA = pd.read_csv(\"fandango_score_comparison.csv\") \n",
    "data_after_HA = pd.read_csv(\"movie_ratings_16_17.csv\")\n",
    "before_POI_data = data_before_HA[['FILM', 'Fandango_Stars', 'Fandango_Ratingvalue', 'Fandango_votes', 'Fandango_Difference']].copy()\n",
    "after_POI_data = data_after_HA[['movie', 'year', 'fandango']].copy()"
   ]
  },
  {
   "cell_type": "code",
   "execution_count": 29,
   "metadata": {
    "collapsed": false
   },
   "outputs": [
    {
     "name": "stdout",
     "output_type": "stream",
     "text": [
      "                                               FILM  Fandango_Stars  \\\n",
      "0                    Avengers: Age of Ultron (2015)             5.0   \n",
      "1                                 Cinderella (2015)             5.0   \n",
      "2                                    Ant-Man (2015)             5.0   \n",
      "3                            Do You Believe? (2015)             5.0   \n",
      "4                     Hot Tub Time Machine 2 (2015)             3.5   \n",
      "5                          The Water Diviner (2015)             4.5   \n",
      "6                             Irrational Man (2015)             4.0   \n",
      "7                                   Top Five (2014)             4.0   \n",
      "8                      Shaun the Sheep Movie (2015)             4.5   \n",
      "9                               Love & Mercy (2015)             4.5   \n",
      "10                Far From The Madding Crowd (2015)             4.5   \n",
      "11                                 Black Sea (2015)             4.0   \n",
      "12                                 Leviathan (2014)             4.0   \n",
      "13                                  Unbroken (2014)             4.5   \n",
      "14                        The Imitation Game (2014)             5.0   \n",
      "15                                   Taken 3 (2015)             4.5   \n",
      "16                                     Ted 2 (2015)             4.5   \n",
      "17                                  Southpaw (2015)             5.0   \n",
      "18   Night at the Museum: Secret of the Tomb (2014)             4.5   \n",
      "19                                    Pixels (2015)             4.5   \n",
      "20                            McFarland, USA (2015)             5.0   \n",
      "21                      Insidious: Chapter 3 (2015)             4.5   \n",
      "22                   The Man From U.N.C.L.E. (2015)             4.5   \n",
      "23                             Run All Night (2015)             4.5   \n",
      "24                                Trainwreck (2015)             4.5   \n",
      "25                                     Selma (2014)             5.0   \n",
      "26                                Ex Machina (2015)             4.5   \n",
      "27                               Still Alice (2015)             4.5   \n",
      "28                                Wild Tales (2014)             4.5   \n",
      "29                       The End of the Tour (2015)             4.5   \n",
      "..                                              ...             ...   \n",
      "116                     Clouds of Sils Maria (2015)             3.5   \n",
      "117                       Testament of Youth (2015)             4.0   \n",
      "118                    Infinitely Polar Bear (2015)             4.0   \n",
      "119                                  Phoenix (2015)             3.5   \n",
      "120                             The Wolfpack (2015)             3.5   \n",
      "121           The Stanford Prison Experiment (2015)             4.0   \n",
      "122                                Tangerine (2015)             4.0   \n",
      "123                           Magic Mike XXL (2015)             4.5   \n",
      "124                                     Home (2015)             4.5   \n",
      "125                       The Wedding Ringer (2015)             4.5   \n",
      "126                            Woman in Gold (2015)             4.5   \n",
      "127                      The Last Five Years (2015)             4.5   \n",
      "128     Mission: Impossible â€“ Rogue Nation (2015)             4.5   \n",
      "129                                      Amy (2015)             4.5   \n",
      "130                           Jurassic World (2015)             4.5   \n",
      "131                                  Minions (2015)             4.0   \n",
      "132                                      Max (2015)             4.5   \n",
      "133                   Paul Blart: Mall Cop 2 (2015)             3.5   \n",
      "134                         The Longest Ride (2015)             4.5   \n",
      "135                       The Lazarus Effect (2015)             3.0   \n",
      "136      The Woman In Black 2 Angel of Death (2015)             3.0   \n",
      "137                            Danny Collins (2015)             4.0   \n",
      "138                              Spare Parts (2015)             4.5   \n",
      "139                                   Serena (2015)             3.0   \n",
      "140                               Inside Out (2015)             4.5   \n",
      "141                               Mr. Holmes (2015)             4.0   \n",
      "142                                      '71 (2015)             3.5   \n",
      "143                      Two Days, One Night (2014)             3.5   \n",
      "144       Gett: The Trial of Viviane Amsalem (2015)             3.5   \n",
      "145              Kumiko, The Treasure Hunter (2015)             3.5   \n",
      "\n",
      "     Fandango_Ratingvalue  Fandango_votes  Fandango_Difference  \n",
      "0                     4.5           14846                  0.5  \n",
      "1                     4.5           12640                  0.5  \n",
      "2                     4.5           12055                  0.5  \n",
      "3                     4.5            1793                  0.5  \n",
      "4                     3.0            1021                  0.5  \n",
      "5                     4.0             397                  0.5  \n",
      "6                     3.5             252                  0.5  \n",
      "7                     3.5            3223                  0.5  \n",
      "8                     4.0             896                  0.5  \n",
      "9                     4.0             864                  0.5  \n",
      "10                    4.0             804                  0.5  \n",
      "11                    3.5             218                  0.5  \n",
      "12                    3.5              64                  0.5  \n",
      "13                    4.1            9443                  0.4  \n",
      "14                    4.6            8055                  0.4  \n",
      "15                    4.1            6757                  0.4  \n",
      "16                    4.1            6437                  0.4  \n",
      "17                    4.6            5597                  0.4  \n",
      "18                    4.1            5445                  0.4  \n",
      "19                    4.1            3886                  0.4  \n",
      "20                    4.6            3364                  0.4  \n",
      "21                    4.1            3276                  0.4  \n",
      "22                    4.1            2686                  0.4  \n",
      "23                    4.1            2066                  0.4  \n",
      "24                    4.1            8381                  0.4  \n",
      "25                    4.6            7025                  0.4  \n",
      "26                    4.1            3458                  0.4  \n",
      "27                    4.1            1258                  0.4  \n",
      "28                    4.1             235                  0.4  \n",
      "29                    4.1             121                  0.4  \n",
      "..                    ...             ...                  ...  \n",
      "116                   3.4             162                  0.1  \n",
      "117                   3.9             127                  0.1  \n",
      "118                   3.9             124                  0.1  \n",
      "119                   3.4              70                  0.1  \n",
      "120                   3.4              66                  0.1  \n",
      "121                   3.9              51                  0.1  \n",
      "122                   3.9              36                  0.1  \n",
      "123                   4.4            9363                  0.1  \n",
      "124                   4.4            7705                  0.1  \n",
      "125                   4.4            6506                  0.1  \n",
      "126                   4.4            2435                  0.1  \n",
      "127                   4.4              99                  0.1  \n",
      "128                   4.4            8357                  0.1  \n",
      "129                   4.4             729                  0.1  \n",
      "130                   4.5           34390                  0.0  \n",
      "131                   4.0           14998                  0.0  \n",
      "132                   4.5            3412                  0.0  \n",
      "133                   3.5            3054                  0.0  \n",
      "134                   4.5            2603                  0.0  \n",
      "135                   3.0            1651                  0.0  \n",
      "136                   3.0            1333                  0.0  \n",
      "137                   4.0             531                  0.0  \n",
      "138                   4.5             450                  0.0  \n",
      "139                   3.0              50                  0.0  \n",
      "140                   4.5           15749                  0.0  \n",
      "141                   4.0            1348                  0.0  \n",
      "142                   3.5             192                  0.0  \n",
      "143                   3.5             118                  0.0  \n",
      "144                   3.5              59                  0.0  \n",
      "145                   3.5              41                  0.0  \n",
      "\n",
      "[146 rows x 5 columns]\n"
     ]
    }
   ],
   "source": [
    "print(before_POI_data)\n"
   ]
  },
  {
   "cell_type": "code",
   "execution_count": 30,
   "metadata": {
    "collapsed": false
   },
   "outputs": [
    {
     "name": "stdout",
     "output_type": "stream",
     "text": [
      "                                  movie  year  fandango\n",
      "0                   10 Cloverfield Lane  2016       3.5\n",
      "1                              13 Hours  2016       4.5\n",
      "2                   A Cure for Wellness  2016       3.0\n",
      "3                       A Dog's Purpose  2017       4.5\n",
      "4               A Hologram for the King  2016       3.0\n",
      "5                       A Monster Calls  2016       4.0\n",
      "6                A Street Cat Named Bob  2016       4.5\n",
      "7       Alice Through the Looking Glass  2016       4.0\n",
      "8                                Allied  2016       4.0\n",
      "9                         Amateur Night  2016       3.5\n",
      "10                           Anthropoid  2016       4.0\n",
      "11              Approaching the Unknown  2016       3.5\n",
      "12                              Arrival  2016       4.0\n",
      "13                              Arsenal  2017       3.5\n",
      "14                     Assassin's Creed  2016       4.0\n",
      "15                             Bad Moms  2016       4.5\n",
      "16                          Bad Santa 2  2016       3.5\n",
      "17             Barbershop: The Next Cut  2016       4.5\n",
      "18   Batman V Superman: Dawn of Justice  2016       4.0\n",
      "19                 Beauty and the Beast  2017       4.5\n",
      "20                        Before I Fall  2017       3.5\n",
      "21                     Before the Flood  2016       3.5\n",
      "22                              Ben-Hur  2016       4.0\n",
      "23                       Bitter Harvest  2017       4.5\n",
      "24                          Blair Witch  2016       3.0\n",
      "25                       Bleed for This  2016       4.0\n",
      "26                         Blood Father  2016       4.0\n",
      "27                 Bridget Jones's Baby  2016       4.0\n",
      "28                           Busanhaeng  2016       4.5\n",
      "29                          Cabin Fever  2016       4.0\n",
      "..                                  ...   ...       ...\n",
      "184                The Legend of Tarzan  2016       4.5\n",
      "185               The LEGO Batman Movie  2017       4.5\n",
      "186            The Light Between Oceans  2016       4.0\n",
      "187               The Magnificent Seven  2016       4.5\n",
      "188                      The Neon Demon  2016       3.5\n",
      "189                       The Nice Guys  2016       3.5\n",
      "190          The Other Side of the Door  2016       3.5\n",
      "191                   The Perfect Match  2016       4.0\n",
      "192            The Purge: Election Year  2016       4.0\n",
      "193             The Secret Life of Pets  2016       4.0\n",
      "194                           The Shack  2017       4.5\n",
      "195                        The Shallows  2016       4.0\n",
      "196                The Space Between Us  2017       4.0\n",
      "197             The Take (Bastille Day)  2016       4.0\n",
      "198                     The Whole Truth  2016       3.0\n",
      "199                       The Wild Life  2016       3.0\n",
      "200                            Triple 9  2016       3.5\n",
      "201                              Trolls  2016       4.5\n",
      "202                    Under the Shadow  2016       4.0\n",
      "203              Underworld: Blood Wars  2016       4.0\n",
      "204                            War Dogs  2016       4.0\n",
      "205                     War on Everyone  2016       4.0\n",
      "206                            Warcraft  2016       4.0\n",
      "207               Whiskey Tango Foxtrot  2016       3.5\n",
      "208                            Why Him?  2016       4.0\n",
      "209                   X-Men: Apocalypse  2016       4.0\n",
      "210                                  XX  2017       3.0\n",
      "211          xXx: Return of Xander Cage  2017       4.0\n",
      "212                         Zoolander 2  2016       2.5\n",
      "213                            Zootopia  2016       4.5\n",
      "\n",
      "[214 rows x 3 columns]\n"
     ]
    }
   ],
   "source": [
    "print(after_POI_data)"
   ]
  },
  {
   "cell_type": "code",
   "execution_count": 31,
   "metadata": {
    "collapsed": true
   },
   "outputs": [],
   "source": [
    "#Both the samples are not representative as all \n",
    "#the movies didn't have an equal chance to be included in the sample"
   ]
  },
  {
   "cell_type": "code",
   "execution_count": 32,
   "metadata": {
    "collapsed": true
   },
   "outputs": [],
   "source": [
    "#Modified Goal: change in the ratings of popular movies\n",
    "#(we keep 30 reviews as threshold for popular movies) \n",
    "#movies in 2015 and 2016"
   ]
  },
  {
   "cell_type": "code",
   "execution_count": 33,
   "metadata": {
    "collapsed": false
   },
   "outputs": [
    {
     "name": "stdout",
     "output_type": "stream",
     "text": [
      "                                       movie  year  fandango\n",
      "108                   Mechanic: Resurrection  2016       4.0\n",
      "206                                 Warcraft  2016       4.0\n",
      "106                                Max Steel  2016       3.5\n",
      "107                            Me Before You  2016       4.5\n",
      "51   Fantastic Beasts and Where to Find Them  2016       4.5\n",
      "33                                      Cell  2016       3.0\n",
      "59                                    Genius  2016       3.5\n",
      "152                                    Sully  2016       4.5\n",
      "4                    A Hologram for the King  2016       3.0\n",
      "31                Captain America: Civil War  2016       4.5\n"
     ]
    }
   ],
   "source": [
    "#sample data after hickey analysis does not include no of reviews, therefore\n",
    "#we print a sample of 10 data points and check the corresponding ratings\n",
    "sample_after = after_POI_data.sample(10, random_state = 1)\n",
    "print(sample_after)"
   ]
  },
  {
   "cell_type": "code",
   "execution_count": 34,
   "metadata": {
    "collapsed": false
   },
   "outputs": [
    {
     "name": "stdout",
     "output_type": "stream",
     "text": [
      "Empty DataFrame\n",
      "Columns: [FILM, Fandango_Stars, Fandango_Ratingvalue, Fandango_votes, Fandango_Difference]\n",
      "Index: []\n"
     ]
    }
   ],
   "source": [
    "#to check whether the data before hickey analysis \n",
    "#contains movies with less than 30 fan reviews\n",
    "print(before_POI_data[before_POI_data['Fandango_votes']<30]) "
   ]
  },
  {
   "cell_type": "code",
   "execution_count": 35,
   "metadata": {
    "collapsed": false
   },
   "outputs": [
    {
     "data": {
      "text/plain": [
       "2015    129\n",
       "2014     17\n",
       "Name: Year, dtype: int64"
      ]
     },
     "execution_count": 35,
     "metadata": {},
     "output_type": "execute_result"
    }
   ],
   "source": [
    "#separate year and store in a separate column\n",
    "before_POI_data['Year'] = before_POI_data['FILM'].str[-5:-1]\n",
    "before_POI_data['Year'].value_counts()\n",
    "#print(before_POI_data.head(4))\n",
    "\n",
    "\n"
   ]
  },
  {
   "cell_type": "code",
   "execution_count": 36,
   "metadata": {
    "collapsed": false
   },
   "outputs": [
    {
     "data": {
      "text/plain": [
       "2016    191\n",
       "Name: year, dtype: int64"
      ]
     },
     "execution_count": 36,
     "metadata": {},
     "output_type": "execute_result"
    }
   ],
   "source": [
    "# movies released in 2015 and 2016 separated into different datasets\n",
    "before_data_2015 = before_POI_data[before_POI_data['Year'] == '2015'].copy()\n",
    "before_data_2015['Year'].value_counts()\n",
    "after_data_2016 = after_POI_data[after_POI_data['year'] == 2016].copy()\n",
    "after_data_2016['year'].value_counts()"
   ]
  },
  {
   "cell_type": "code",
   "execution_count": 37,
   "metadata": {
    "collapsed": false
   },
   "outputs": [
    {
     "data": {
      "image/png": "[encoded data removed]",
      "text/plain": [
       "<matplotlib.figure.Figure at 0x7fa8fa58b6a0>"
      ]
     },
     "metadata": {},
     "output_type": "display_data"
    }
   ],
   "source": [
    "import matplotlib.pyplot as plt\n",
    "from numpy import arange\n",
    "before_data_2015['Fandango_Stars'].plot.kde(label ='2015' , legend = True , figsize = (10,6))\n",
    "after_data_2016['fandango'].plot.kde(label ='2016' , legend = True)\n",
    "\n",
    "plt.title(\"Comparing distribution shapes for Fandango's ratings for the years 2015 & 2016\", y = 1.07)\n",
    "plt.xlabel('Stars')\n",
    "plt.xlim(0,5) # because ratings start at 0 and end at 5\n",
    "plt.xticks(arange(0,5.1,.5))\n",
    "plt.show()"
   ]
  },
  {
   "cell_type": "code",
   "execution_count": 38,
   "metadata": {
    "collapsed": false
   },
   "outputs": [
    {
     "name": "stdout",
     "output_type": "stream",
     "text": [
      "Frequency Distribution of Ratings(2015)\n"
     ]
    },
    {
     "data": {
      "text/plain": [
       "3.0     8.527132\n",
       "3.5    17.829457\n",
       "4.0    28.682171\n",
       "4.5    37.984496\n",
       "5.0     6.976744\n",
       "Name: Fandango_Stars, dtype: float64"
      ]
     },
     "execution_count": 38,
     "metadata": {},
     "output_type": "execute_result"
    }
   ],
   "source": [
    "print(\"Frequency Distribution of Ratings(2015)\")\n",
    "before_data_2015[\"Fandango_Stars\"].value_counts(normalize = True).sort_index() * 100 "
   ]
  },
  {
   "cell_type": "code",
   "execution_count": 39,
   "metadata": {
    "collapsed": false
   },
   "outputs": [
    {
     "name": "stdout",
     "output_type": "stream",
     "text": [
      "Frequency Distribution of Ratings(2016)\n"
     ]
    },
    {
     "data": {
      "text/plain": [
       "2.5     3.141361\n",
       "3.0     7.329843\n",
       "3.5    24.083770\n",
       "4.0    40.314136\n",
       "4.5    24.607330\n",
       "5.0     0.523560\n",
       "Name: fandango, dtype: float64"
      ]
     },
     "execution_count": 39,
     "metadata": {},
     "output_type": "execute_result"
    }
   ],
   "source": [
    "print(\"Frequency Distribution of Ratings(2016)\")\n",
    "after_data_2016[\"fandango\"].value_counts(normalize = True).sort_index() * 100"
   ]
  },
  {
   "cell_type": "code",
   "execution_count": 40,
   "metadata": {
    "collapsed": true
   },
   "outputs": [],
   "source": [
    "#comparing movie rating freq distribution for 2015 and 2016 \n",
    "# 5 Star rating(2016): under 1% (LOWER)\n",
    "# 5 Star rating(2015): under ~7%\n",
    "\n",
    "# 4.5 Star rating(2016): under 24% (LOWER)\n",
    "# 4.5 Star rating(2015): under 37%\n",
    "\n",
    "# Minimum rating of movies released in 2016 is 2.5 stars\n",
    "# Minimum rating of movies released in 2015 is 3.0 stars\n",
    "\n",
    "# High no. of movies received 3.5 and 4.0 stars in 2016 as compared to 2015.\n",
    "\n",
    "# These are the evident differences between the two\n",
    "# frequency distributions.\n"
   ]
  },
  {
   "cell_type": "code",
   "execution_count": 44,
   "metadata": {
    "collapsed": false
   },
   "outputs": [
    {
     "data": {
      "text/html": [
       "<div>\n",
       "<style scoped>\n",
       "    .dataframe tbody tr th:only-of-type {\n",
       "        vertical-align: middle;\n",
       "    }\n",
       "\n",
       "    .dataframe tbody tr th {\n",
       "        vertical-align: top;\n",
       "    }\n",
       "\n",
       "    .dataframe thead th {\n",
       "        text-align: right;\n",
       "    }\n",
       "</style>\n",
       "<table border=\"1\" class=\"dataframe\">\n",
       "  <thead>\n",
       "    <tr style=\"text-align: right;\">\n",
       "      <th></th>\n",
       "      <th>2015</th>\n",
       "      <th>2016</th>\n",
       "    </tr>\n",
       "  </thead>\n",
       "  <tbody>\n",
       "    <tr>\n",
       "      <th>mean</th>\n",
       "      <td>4.085271</td>\n",
       "      <td>3.887435</td>\n",
       "    </tr>\n",
       "    <tr>\n",
       "      <th>median</th>\n",
       "      <td>4.000000</td>\n",
       "      <td>4.000000</td>\n",
       "    </tr>\n",
       "    <tr>\n",
       "      <th>mode</th>\n",
       "      <td>4.500000</td>\n",
       "      <td>4.000000</td>\n",
       "    </tr>\n",
       "  </tbody>\n",
       "</table>\n",
       "</div>"
      ],
      "text/plain": [
       "            2015      2016\n",
       "mean    4.085271  3.887435\n",
       "median  4.000000  4.000000\n",
       "mode    4.500000  4.000000"
      ]
     },
     "execution_count": 44,
     "metadata": {},
     "output_type": "execute_result"
    }
   ],
   "source": [
    "movies_mean_2015 = before_data_2015['Fandango_Stars'].mean()\n",
    "movies_mean_2016 = after_data_2016['fandango'].mean()\n",
    "\n",
    "movies_median_2015 = before_data_2015['Fandango_Stars'].median()\n",
    "movies_median_2016 = after_data_2016['fandango'].median()\n",
    "\n",
    "movies_mode_2015 = before_data_2015['Fandango_Stars'].mode()[0] # the output of Series.mode() is a bit uncommon\n",
    "movies_mode_2016 = after_data_2016['fandango'].mode()[0]\n",
    "\n",
    "summary = pd.DataFrame()\n",
    "summary['2015'] = [movies_mean_2015, movies_median_2015, movies_mode_2015]\n",
    "summary['2016'] = [movies_mean_2016, movies_median_2016, movies_mode_2016]\n",
    "summary.index = ['mean', 'median', 'mode']\n",
    "summary"
   ]
  },
  {
   "cell_type": "code",
   "execution_count": 53,
   "metadata": {
    "collapsed": false
   },
   "outputs": [
    {
     "data": {
      "image/png": "[encoded data removed]",
      "text/plain": [
       "<matplotlib.figure.Figure at 0x7fa8fa42fa20>"
      ]
     },
     "metadata": {},
     "output_type": "display_data"
    }
   ],
   "source": [
    "summary['2015'].plot.bar(width = 0.2, color = 'blue', align = 'center', label = '2015')\n",
    "summary['2016'].plot.bar(width = 0.2, color = 'red', align = 'edge', label = '2016',\n",
    "                          figsize = (10,5))\n",
    "\n",
    "plt.title('Comparing mean, median, mode using bar graph (2015 vs 2016)', y = 1.07)\n",
    "plt.ylim(0,5.5)\n",
    "plt.yticks(arange(0,5.1,.5))\n",
    "plt.ylabel('Stars')\n",
    "plt.legend(loc = 'upper center')\n",
    "plt.xticks(rotation = 0)\n",
    "plt.show()"
   ]
  },
  {
   "cell_type": "code",
   "execution_count": null,
   "metadata": {
    "collapsed": true
   },
   "outputs": [],
   "source": []
  }
 ],
 "metadata": {
  "kernelspec": {
   "display_name": "Python 3",
   "language": "python",
   "name": "python3"
  },
  "language_info": {
   "codemirror_mode": {
    "name": "ipython",
    "version": 3
   },
   "file_extension": ".py",
   "mimetype": "text/x-python",
   "name": "python",
   "nbconvert_exporter": "python",
   "pygments_lexer": "ipython3",
   "version": "3.4.3"
  }
 },
 "nbformat": 4,
 "nbformat_minor": 2
}
